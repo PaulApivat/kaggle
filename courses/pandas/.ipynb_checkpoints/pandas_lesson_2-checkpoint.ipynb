{
 "cells": [
  {
   "cell_type": "code",
   "execution_count": null,
   "metadata": {},
   "outputs": [],
   "source": [
    "# Index & Selecting\n",
    "\n",
    "# Index & Selecting in Native Python .column or ['column']            -- column-first, row-second\n",
    "# Index & Selecting in Pandas .iloc[] index-based selection           -- row-first, column-second\n",
    "# Index & Selecting in Pandas .loc[] label-based selection            -- row-first, column-second"
   ]
  },
  {
   "cell_type": "code",
   "execution_count": null,
   "metadata": {},
   "outputs": [],
   "source": [
    "# Index-baesd selection in Pandas (row-first, column-second)\n",
    "\n",
    "# selecting first row\n",
    "df.iloc[0]\n",
    "\n",
    "# select first column\n",
    "df.iloc[:,0]\n",
    "\n",
    "# select three rows, first column\n",
    "df.iloc[:3, 0]\n",
    "\n",
    "# select second & third rows, first column\n",
    "df.iloc[1:3, 0]\n",
    "\n",
    "# select three rows, first column (pass a List)\n",
    "df.iloc[[0,1,2] , 0]\n",
    "\n",
    "# select last five rows, all columns (use negative values)\n",
    "df.iloc[-5:]"
   ]
  },
  {
   "cell_type": "code",
   "execution_count": null,
   "metadata": {},
   "outputs": [],
   "source": [
    "# Label-based selection in Pandas\n",
    "\n",
    "# first row, a column\n",
    "df.loc[0, 'column_name']\n",
    "\n",
    "# all rows, selecting three particular columns\n",
    "df.loc[:, ['column_1', 'column_23', 'column_15']]\n",
    "\n"
   ]
  },
  {
   "cell_type": "code",
   "execution_count": null,
   "metadata": {},
   "outputs": [],
   "source": [
    "# GOTCHAS -- Two Different Indexing Schemes btwn .iloc vs .loc\n",
    "\n",
    "# iloc - first element in range is included, last element excluded\n",
    "0:10 selects 0,...,9\n",
    "    \n",
    "# loc - indexes inclusively\n",
    "0:10 selects 0,...,10\n",
    "    \n",
    "# CONFUSING when indexing numerical list\n",
    "\n",
    "# df.iloc[0:1000] will return 1000 entries\n",
    "\n",
    "# df.loc[0:1000] will return 1001 entries\n",
    "\n",
    "\n",
    "\n"
   ]
  },
  {
   "cell_type": "code",
   "execution_count": null,
   "metadata": {},
   "outputs": [],
   "source": [
    "# Manipulating the index\n",
    "\n",
    "import pandas as pd\n",
    "\n",
    "flights = pd.read_csv('flights.csv')\n",
    "flights.head()\n",
    "\n"
   ]
  },
  {
   "cell_type": "code",
   "execution_count": null,
   "metadata": {},
   "outputs": [],
   "source": [
    "# first four rows, fourth column\n",
    "flights.iloc[:4,3]\n",
    "\n",
    "# second and third rows, fourth column\n",
    "flights.iloc[2:4,3]\n",
    "\n",
    "# native python way - column first, then rows\n",
    "flights['dep_time'][2:4]\n",
    "\n",
    "flights['sched_dep_time'][2:4]"
   ]
  },
  {
   "cell_type": "code",
   "execution_count": null,
   "metadata": {},
   "outputs": [],
   "source": [
    "# Conditional selection in Native Python (returns boolean, True/False)\n",
    "flights.carrier == 'UA'\n",
    "\n",
    "# Place conditional selection INSIDE .loc() from pandas to return all *rows* where carrier == 'UA'\n",
    "# 58,665 rows meet this condition\n",
    "flights.loc[flights.carrier == 'UA']\n",
    "\n",
    "# have TWO conditions \n",
    "# 32,458 rows meet this condition\n",
    "flights.loc[(flights.carrier == 'UA') & (flights.minute < 30)]"
   ]
  },
  {
   "cell_type": "code",
   "execution_count": null,
   "metadata": {},
   "outputs": [],
   "source": [
    "flights.head()\n",
    "\n",
    "# Two conditions - all 'AA' flights OR flights less than 20 minutes\n",
    "flights.loc[(flights.carrier=='AA') | (flights.minute < 20)]"
   ]
  },
  {
   "cell_type": "code",
   "execution_count": null,
   "metadata": {},
   "outputs": [],
   "source": [
    "# Built in conditional selectors for Pandas - isin\n",
    "\n",
    "# select rows (.loc is row-first) where origin isin (\"is in\") either JFK or LGA\n",
    "flights.loc[flights.origin.isin(['JFK', 'LGA'])]"
   ]
  },
  {
   "cell_type": "code",
   "execution_count": null,
   "metadata": {},
   "outputs": [],
   "source": [
    "# Built-in Pandas conditional selector  - isnull\n",
    "\n",
    "# select all rows where dep_delay column 'is null'\n",
    "flights.loc[flights.dep_delay.isnull()]\n",
    "\n",
    "# reverse, select is NOT null\n",
    "flights.loc[flights.dep_delay.notnull()]"
   ]
  }
 ],
 "metadata": {
  "kernelspec": {
   "display_name": "Python 3",
   "language": "python",
   "name": "python3"
  },
  "language_info": {
   "codemirror_mode": {
    "name": "ipython",
    "version": 3
   },
   "file_extension": ".py",
   "mimetype": "text/x-python",
   "name": "python",
   "nbconvert_exporter": "python",
   "pygments_lexer": "ipython3",
   "version": "3.8.3"
  }
 },
 "nbformat": 4,
 "nbformat_minor": 4
}
